{
 "cells": [
  {
   "cell_type": "markdown",
   "id": "14a6a60c-8c5e-4456-a10a-8a5b393c352b",
   "metadata": {},
   "source": [
    "### semantic search engine over a PDF document"
   ]
  },
  {
   "cell_type": "code",
   "execution_count": 8,
   "id": "bcfd7b47-0c31-4bc9-b63e-8e3c4cc53700",
   "metadata": {},
   "outputs": [
    {
     "name": "stdin",
     "output_type": "stream",
     "text": [
      " ········\n"
     ]
    }
   ],
   "source": [
    "import getpass\n",
    "import os\n",
    "\n",
    "os.environ[\"LANGSMITH_TRACING\"] = \"true\"\n",
    "os.environ[\"LANGSMITH_API_KEY\"] = getpass.getpass()"
   ]
  },
  {
   "cell_type": "code",
   "execution_count": 2,
   "id": "09dc4d03-70e3-4a9f-b5ee-a233e1c68fef",
   "metadata": {},
   "outputs": [
    {
     "name": "stdout",
     "output_type": "stream",
     "text": [
      "107\n"
     ]
    }
   ],
   "source": [
    "# pdf document loading\n",
    "from langchain_community.document_loaders import PyPDFLoader\n",
    "\n",
    "file_path = \"nke-10k-2023.pdf\"\n",
    "loader = PyPDFLoader(file_path)\n",
    "\n",
    "docs = loader.load()\n",
    "\n",
    "print(len(docs))"
   ]
  },
  {
   "cell_type": "code",
   "execution_count": 3,
   "id": "87ff7d61-456b-47e3-ba26-b7ed02bfa8b9",
   "metadata": {},
   "outputs": [
    {
     "name": "stdout",
     "output_type": "stream",
     "text": [
      "Table of Contents\n",
      "UNITED STATES\n",
      "SECURITIES AND EXCHANGE COMMISSION\n",
      "Washington, D.C. 20549\n",
      "FORM 10-K\n",
      "(Mark One)\n",
      "☑  ANNUAL REPORT PURSUANT TO SECTION 13 OR 15(D) OF THE SECURITIES EXCHANGE ACT OF 1934\n",
      "F\n",
      "\n"
     ]
    }
   ],
   "source": [
    "#accessing information on loaded docs\n",
    "print(f\"{docs[0].page_content[:200]}\\n\")\n"
   ]
  },
  {
   "cell_type": "code",
   "execution_count": 4,
   "id": "43404e94-4fa0-43d7-b4df-2ba669fc17cb",
   "metadata": {},
   "outputs": [
    {
     "name": "stdout",
     "output_type": "stream",
     "text": [
      "{'producer': 'EDGRpdf Service w/ EO.Pdf 22.0.40.0', 'creator': 'EDGAR Filing HTML Converter', 'creationdate': '2023-07-20T16:22:00-04:00', 'title': '0000320187-23-000039', 'author': 'EDGAR Online, a division of Donnelley Financial Solutions', 'subject': 'Form 10-K filed on 2023-07-20 for the period ending 2023-05-31', 'keywords': '0000320187-23-000039; ; 10-K', 'moddate': '2023-07-20T16:22:08-04:00', 'source': 'nke-10k-2023.pdf', 'total_pages': 107, 'page': 0, 'page_label': '1'}\n"
     ]
    }
   ],
   "source": [
    "print(docs[0].metadata)"
   ]
  },
  {
   "cell_type": "code",
   "execution_count": 5,
   "id": "f104bb0a-abfa-47bb-80aa-dcfb240de779",
   "metadata": {},
   "outputs": [
    {
     "data": {
      "text/plain": [
       "516"
      ]
     },
     "execution_count": 5,
     "metadata": {},
     "output_type": "execute_result"
    }
   ],
   "source": [
    "#splitting texts into chuncks of 1000\n",
    "from langchain_text_splitters import RecursiveCharacterTextSplitter\n",
    "\n",
    "text_splitter = RecursiveCharacterTextSplitter(\n",
    "    chunk_size=1000, chunk_overlap=200, add_start_index=True\n",
    ")\n",
    "all_splits = text_splitter.split_documents(docs)\n",
    "\n",
    "len(all_splits)"
   ]
  },
  {
   "cell_type": "code",
   "execution_count": 6,
   "id": "f8d9f804-9366-4c1f-a7d1-b41164a928b5",
   "metadata": {},
   "outputs": [],
   "source": [
    "#vector embeding\n",
    "from langchain_google_vertexai import VertexAIEmbeddings\n",
    "\n",
    "embeddings = VertexAIEmbeddings(model=\"text-embedding-004\")"
   ]
  },
  {
   "cell_type": "code",
   "execution_count": 7,
   "id": "f4133fd4-0e6e-4d45-a2c5-0972b83ba74e",
   "metadata": {},
   "outputs": [
    {
     "name": "stdout",
     "output_type": "stream",
     "text": [
      "Generated vectors of length 768\n",
      "\n",
      "[0.025028448551893234, 0.021236900240182877, 0.0674874484539032, 0.04534987360239029, 0.018470225855708122, 0.030282137915492058, 0.05763626843690872, 0.012206651270389557, -0.025709806010127068, -0.03336406499147415]\n"
     ]
    }
   ],
   "source": [
    "vector_1 = embeddings.embed_query(all_splits[0].page_content)\n",
    "vector_2 = embeddings.embed_query(all_splits[1].page_content)\n",
    "\n",
    "assert len(vector_1) == len(vector_2)\n",
    "print(f\"Generated vectors of length {len(vector_1)}\\n\")\n",
    "print(vector_1[:10])"
   ]
  },
  {
   "cell_type": "code",
   "execution_count": 9,
   "id": "75e1a30d-8309-44dd-9243-9707b94a8ab7",
   "metadata": {},
   "outputs": [],
   "source": [
    "#vector store\n",
    "from langchain_core.vectorstores import InMemoryVectorStore\n",
    "\n",
    "vector_store = InMemoryVectorStore(embeddings)"
   ]
  },
  {
   "cell_type": "code",
   "execution_count": 10,
   "id": "f329411f-77a9-4895-bd11-beb91229354f",
   "metadata": {},
   "outputs": [],
   "source": [
    "ids = vector_store.add_documents(documents=all_splits)"
   ]
  },
  {
   "cell_type": "code",
   "execution_count": 14,
   "id": "ba4b16dc-eb3f-4895-92e6-b0d5e599e3ad",
   "metadata": {},
   "outputs": [
    {
     "name": "stdout",
     "output_type": "stream",
     "text": [
      "page_content='operations. We also lease an office complex in Shanghai, China, our headquarters for our Greater China geography, occupied by employees focused on implementing our\n",
      "wholesale, NIKE Direct and merchandising strategies in the region, among other functions.\n",
      "In the United States, NIKE has eight significant distribution centers. Five are located in or near Memphis, Tennessee, two of which are owned and three of which are\n",
      "leased. Two other distribution centers, one located in Indianapolis, Indiana and one located in Dayton, Tennessee, are leased and operated by third-party logistics\n",
      "providers. One distribution center for Converse is located in Ontario, California, which is leased. NIKE has a number of distribution facilities outside the United States,\n",
      "some of which are leased and operated by third-party logistics providers. The most significant distribution facilities outside the United States are located in Laakdal,' metadata={'producer': 'EDGRpdf Service w/ EO.Pdf 22.0.40.0', 'creator': 'EDGAR Filing HTML Converter', 'creationdate': '2023-07-20T16:22:00-04:00', 'title': '0000320187-23-000039', 'author': 'EDGAR Online, a division of Donnelley Financial Solutions', 'subject': 'Form 10-K filed on 2023-07-20 for the period ending 2023-05-31', 'keywords': '0000320187-23-000039; ; 10-K', 'moddate': '2023-07-20T16:22:08-04:00', 'source': 'nke-10k-2023.pdf', 'total_pages': 107, 'page': 26, 'page_label': '27', 'start_index': 804}\n"
     ]
    }
   ],
   "source": [
    "results = vector_store.similarity_search(\n",
    "    \"How many distribution centers does Nike have in the US?\"\n",
    ")\n",
    "\n",
    "print(results[0])"
   ]
  },
  {
   "cell_type": "code",
   "execution_count": 16,
   "id": "ccaf8227-d6e1-4a07-a519-1fc3d4faf171",
   "metadata": {},
   "outputs": [
    {
     "name": "stdout",
     "output_type": "stream",
     "text": [
      "page_content='Table of Contents\n",
      "PART I\n",
      "ITEM 1. BUSINESS\n",
      "GENERAL\n",
      "NIKE, Inc. was incorporated in 1967 under the laws of the State of Oregon. As used in this Annual Report on Form 10-K (this \"Annual Report\"), the terms \"we,\" \"us,\" \"our,\"\n",
      "\"NIKE\" and the \"Company\" refer to NIKE, Inc. and its predecessors, subsidiaries and affiliates, collectively, unless the context indicates otherwise.\n",
      "Our principal business activity is the design, development and worldwide marketing and selling of athletic footwear, apparel, equipment, accessories and services. NIKE is\n",
      "the largest seller of athletic footwear and apparel in the world. We sell our products through NIKE Direct operations, which are comprised of both NIKE-owned retail stores\n",
      "and sales through our digital platforms (also referred to as \"NIKE Brand Digital\"), to retail accounts and to a mix of independent distributors, licensees and sales' metadata={'producer': 'EDGRpdf Service w/ EO.Pdf 22.0.40.0', 'creator': 'EDGAR Filing HTML Converter', 'creationdate': '2023-07-20T16:22:00-04:00', 'title': '0000320187-23-000039', 'author': 'EDGAR Online, a division of Donnelley Financial Solutions', 'subject': 'Form 10-K filed on 2023-07-20 for the period ending 2023-05-31', 'keywords': '0000320187-23-000039; ; 10-K', 'moddate': '2023-07-20T16:22:08-04:00', 'source': 'nke-10k-2023.pdf', 'total_pages': 107, 'page': 3, 'page_label': '4', 'start_index': 0}\n"
     ]
    },
    {
     "name": "stderr",
     "output_type": "stream",
     "text": [
      "C:\\Users\\JHAMMOND\\AppData\\Local\\Temp\\ipykernel_26360\\1736401047.py:2: RuntimeWarning: coroutine 'InMemoryVectorStore.asimilarity_search' was never awaited\n",
      "  results = await vector_store.asimilarity_search(\"When was Nike incorporated?\")\n",
      "RuntimeWarning: Enable tracemalloc to get the object allocation traceback\n"
     ]
    }
   ],
   "source": [
    "# asynchronous\n",
    "results = await vector_store.asimilarity_search(\"When was Nike incorporated?\")\n",
    "\n",
    "print(results[0])"
   ]
  },
  {
   "cell_type": "code",
   "execution_count": 18,
   "id": "2b5f0f87-8a31-4625-828f-283e368421b2",
   "metadata": {},
   "outputs": [
    {
     "name": "stdout",
     "output_type": "stream",
     "text": [
      "Score: 0.7558784352892262\n",
      "\n",
      "page_content='Table of Contents\n",
      "FISCAL 2023 NIKE BRAND REVENUE HIGHLIGHTSThe following tables present NIKE Brand revenues disaggregated by reportable operating segment, distribution channel and major product line:\n",
      "FISCAL 2023 COMPARED TO FISCAL 2022\n",
      "• NIKE, Inc. Revenues were $51.2 billion in fiscal 2023, which increased 10% and 16% compared to fiscal 2022 on a reported and currency-neutral basis, respectively.\n",
      "The increase was due to higher revenues in North America, Europe, Middle East & Africa (\"EMEA\"), APLA and Greater China, which contributed approximately 7, 6,\n",
      "2 and 1 percentage points to NIKE, Inc. Revenues, respectively.\n",
      "• NIKE Brand revenues, which represented over 90% of NIKE, Inc. Revenues, increased 10% and 16% on a reported and currency-neutral basis, respectively. This\n",
      "increase was primarily due to higher revenues in Men's, the Jordan Brand, Women's and Kids' which grew 17%, 35%,11% and 10%, respectively, on a wholesale\n",
      "equivalent basis.' metadata={'producer': 'EDGRpdf Service w/ EO.Pdf 22.0.40.0', 'creator': 'EDGAR Filing HTML Converter', 'creationdate': '2023-07-20T16:22:00-04:00', 'title': '0000320187-23-000039', 'author': 'EDGAR Online, a division of Donnelley Financial Solutions', 'subject': 'Form 10-K filed on 2023-07-20 for the period ending 2023-05-31', 'keywords': '0000320187-23-000039; ; 10-K', 'moddate': '2023-07-20T16:22:08-04:00', 'source': 'nke-10k-2023.pdf', 'total_pages': 107, 'page': 35, 'page_label': '36', 'start_index': 0}\n"
     ]
    }
   ],
   "source": [
    "# scoring\n",
    "# Note that providers implement different scores; the score here\n",
    "# is a distance metric that varies inversely with similarity.\n",
    "\n",
    "results = vector_store.similarity_search_with_score(\"What was Nike's revenue in 2023?\")\n",
    "doc, score = results[0]\n",
    "print(f\"Score: {score}\\n\")\n",
    "print(doc)"
   ]
  },
  {
   "cell_type": "code",
   "execution_count": 17,
   "id": "08782588-66a3-48da-94e6-8200de372520",
   "metadata": {},
   "outputs": [
    {
     "data": {
      "text/plain": [
       "[[Document(id='9e81bf44-61c9-4e63-a674-230d4b493b4b', metadata={'producer': 'EDGRpdf Service w/ EO.Pdf 22.0.40.0', 'creator': 'EDGAR Filing HTML Converter', 'creationdate': '2023-07-20T16:22:00-04:00', 'title': '0000320187-23-000039', 'author': 'EDGAR Online, a division of Donnelley Financial Solutions', 'subject': 'Form 10-K filed on 2023-07-20 for the period ending 2023-05-31', 'keywords': '0000320187-23-000039; ; 10-K', 'moddate': '2023-07-20T16:22:08-04:00', 'source': 'nke-10k-2023.pdf', 'total_pages': 107, 'page': 26, 'page_label': '27', 'start_index': 804}, page_content='operations. We also lease an office complex in Shanghai, China, our headquarters for our Greater China geography, occupied by employees focused on implementing our\\nwholesale, NIKE Direct and merchandising strategies in the region, among other functions.\\nIn the United States, NIKE has eight significant distribution centers. Five are located in or near Memphis, Tennessee, two of which are owned and three of which are\\nleased. Two other distribution centers, one located in Indianapolis, Indiana and one located in Dayton, Tennessee, are leased and operated by third-party logistics\\nproviders. One distribution center for Converse is located in Ontario, California, which is leased. NIKE has a number of distribution facilities outside the United States,\\nsome of which are leased and operated by third-party logistics providers. The most significant distribution facilities outside the United States are located in Laakdal,')],\n",
       " [Document(id='ac99c39e-fd98-4224-8c0f-90855f49a60e', metadata={'producer': 'EDGRpdf Service w/ EO.Pdf 22.0.40.0', 'creator': 'EDGAR Filing HTML Converter', 'creationdate': '2023-07-20T16:22:00-04:00', 'title': '0000320187-23-000039', 'author': 'EDGAR Online, a division of Donnelley Financial Solutions', 'subject': 'Form 10-K filed on 2023-07-20 for the period ending 2023-05-31', 'keywords': '0000320187-23-000039; ; 10-K', 'moddate': '2023-07-20T16:22:08-04:00', 'source': 'nke-10k-2023.pdf', 'total_pages': 107, 'page': 3, 'page_label': '4', 'start_index': 0}, page_content='Table of Contents\\nPART I\\nITEM 1. BUSINESS\\nGENERAL\\nNIKE, Inc. was incorporated in 1967 under the laws of the State of Oregon. As used in this Annual Report on Form 10-K (this \"Annual Report\"), the terms \"we,\" \"us,\" \"our,\"\\n\"NIKE\" and the \"Company\" refer to NIKE, Inc. and its predecessors, subsidiaries and affiliates, collectively, unless the context indicates otherwise.\\nOur principal business activity is the design, development and worldwide marketing and selling of athletic footwear, apparel, equipment, accessories and services. NIKE is\\nthe largest seller of athletic footwear and apparel in the world. We sell our products through NIKE Direct operations, which are comprised of both NIKE-owned retail stores\\nand sales through our digital platforms (also referred to as \"NIKE Brand Digital\"), to retail accounts and to a mix of independent distributors, licensees and sales')]]"
      ]
     },
     "execution_count": 17,
     "metadata": {},
     "output_type": "execute_result"
    }
   ],
   "source": [
    "# Retreiver\n",
    "from typing import List\n",
    "\n",
    "from langchain_core.documents import Document\n",
    "from langchain_core.runnables import chain\n",
    "\n",
    "\n",
    "@chain\n",
    "def retriever(query: str) -> List[Document]:\n",
    "    return vector_store.similarity_search(query, k=1)\n",
    "\n",
    "\n",
    "retriever.batch(\n",
    "    [\n",
    "        \"How many distribution centers does Nike have in the US?\",\n",
    "        \"When was Nike incorporated?\",\n",
    "    ],\n",
    ")"
   ]
  },
  {
   "cell_type": "code",
   "execution_count": null,
   "id": "6ed35c09-8dc8-4b4f-b5a5-5204b8f1403e",
   "metadata": {},
   "outputs": [],
   "source": []
  },
  {
   "cell_type": "markdown",
   "id": "bf9aa49a-6540-4d64-9329-0bc5f367b441",
   "metadata": {},
   "source": [
    "### AGENT"
   ]
  },
  {
   "cell_type": "code",
   "execution_count": 7,
   "id": "ff27d8a9-3678-437a-875e-cb8f2add9d23",
   "metadata": {},
   "outputs": [
    {
     "name": "stdin",
     "output_type": "stream",
     "text": [
      " ········\n"
     ]
    }
   ],
   "source": [
    "import getpass\n",
    "import os\n",
    "\n",
    "os.environ[\"LANGSMITH_TRACING\"] = \"true\"\n",
    "os.environ[\"LANGSMITH_API_KEY\"] = getpass.getpass()"
   ]
  },
  {
   "cell_type": "code",
   "execution_count": 8,
   "id": "189b482e-2c4a-4c16-93cb-f94a4f8051dd",
   "metadata": {},
   "outputs": [
    {
     "name": "stdin",
     "output_type": "stream",
     "text": [
      " ········\n"
     ]
    }
   ],
   "source": [
    "import getpass\n",
    "import os\n",
    "\n",
    "os.environ[\"TAVILY_API_KEY\"] = getpass.getpass()"
   ]
  },
  {
   "cell_type": "code",
   "execution_count": 9,
   "id": "d873d667-54ae-4216-822e-7803f0dd1614",
   "metadata": {},
   "outputs": [
    {
     "name": "stdout",
     "output_type": "stream",
     "text": [
      "[{'title': '10-Day Weather Forecast for San Francisco, CA', 'url': 'https://weather.com/weather/tenday/l/San+Francisco+CA+USCA0987:1:US', 'content': \"My DashboardTodayHourly10 DayWeekendMonthlyRadarTravel\\nMore ForecastsMore\\nSpecialty Forecasts\\nYesterday's Weather Allergy TrackerCold & FluAir Quality Forecast\\nAdvertisement\\n10 Day Weather-San Francisco, CA\\nAs of 11:42 am PDT\\nToday\\nSunny\\n63°/49°\\n1%\\nW 15\\xa0mph\\nMon 28 | Day\\n63°\\n1%\\nW 15\\xa0mph\\nSunny. High 63F. Winds W at 10 to 20 mph. [...] Sat 10\\nMostly Sunny\\n64°/49°\\n8%\\nW 14\\xa0mph\\nSat 10 | Day\\n64°\\n8%\\nW 14\\xa0mph\\nMostly sunny skies. High 64F. Winds W at 10 to 20 mph.\\n\\n\\nHumidity70%\\n\\n\\nUV Index9 of 11\\n\\n\\nSunrise6:04 am\\n\\n\\nSunset8:08 pm\\n\\n\\nSat 10 | Night\\n49°\\n10%\\nW 13\\xa0mph\\nMostly clear skies. Low 49F. Winds W at 10 to 15 mph.\\n\\n\\nHumidity86%\\n\\n\\nUV Index0 of 11\\n\\n\\nMoonrise6:41 pm\\nWaxing Gibbous\\n\\n\\nMoonset4:48 am\\n\\n\\nSun 11\\nPartly Cloudy\\n64°/49°\\n18%\\nW 13\\xa0mph\\nSun 11 | Day\\n64°\\n18%\\nW 13\\xa0mph\\nPartly cloudy skies. High 64F. Winds W at 10 to 20 mph. [...] Humidity73%\\n\\n\\nUV Index9 of 11\\n\\n\\nSunrise6:03 am\\n\\n\\nSunset8:09 pm\\n\\n\\nSun 11 | Night\\n49°\\n21%\\nW 12\\xa0mph\\nPartly cloudy skies. Low 49F. Winds W at 10 to 15 mph.\\n\\n\\nHumidity86%\\n\\n\\nUV Index0 of 11\\n\\n\\nMoonrise7:41 pm\\nFull Moon\\n\\n\\nMoonset5:12 am\\n\\n\\nMon 12\\nPartly Cloudy\\n64°/49°\\n10%\\nW 14\\xa0mph\\nMon 12 | Day\\n64°\\n10%\\nW 14\\xa0mph\\nPartly cloudy skies. High 64F. Winds W at 10 to 20 mph.\\n\\n\\nHumidity71%\\n\\n\\nUV Index9 of 11\\n\\n\\nSunrise6:02 am\\n\\n\\nSunset8:10 pm\", 'score': 0.72559077}, {'title': '7-Day Forecast 37.77N 122.41W - National Weather Service', 'url': 'https://forecast.weather.gov/MapClick.php?lat=37.7771&lon=-122.4196', 'content': 'Humidity | 81%\\nWind Speed | NA NA MPH\\nBarometer | NA\\nDewpoint | 47°F (8°C)\\nVisibility | NA\\nLast update | 09 May 12:43 AM PDT\\nMore Information:\\n\\nLocal Forecast OfficeMore Local Wx3 Day HistoryHourly Weather Forecast\\n\\nSan Francisco CA\\n\\nOvernight\\n\\n\\n\\nLow: 51 °F\\n\\nMostly Clear\\n\\nFriday\\n\\n\\n\\nHigh: 74 °F\\n\\nSunny\\n\\nFriday Night\\n\\n\\n\\nLow: 53 °F\\n\\nMostly Clear\\n\\nSaturday\\n\\n\\n\\nHigh: 72 °F\\n\\nSunny\\n\\nSaturday Night\\n\\n\\n\\nLow: 53 °F\\n\\nMostly Clear\\n\\nSunday\\n\\n\\n\\nHigh: 63 °F\\n\\nSunny\\n\\nSunday Night\\n\\n\\n\\nLow: 52 °F\\n\\nPartly Cloudy', 'score': 0.6994397}]\n"
     ]
    }
   ],
   "source": [
    "# tool\n",
    "from langchain_community.tools.tavily_search import TavilySearchResults\n",
    "\n",
    "search = TavilySearchResults(max_results=2)\n",
    "search_results = search.invoke(\"what is the weather in SF\")\n",
    "print(search_results)\n",
    "# If we want, we can create other tools.\n",
    "# Once we have all the tools we want, we can put them in a list that we will reference later.\n",
    "tools = [search]"
   ]
  },
  {
   "cell_type": "code",
   "execution_count": 10,
   "id": "5c271e15-b5d4-4084-98a9-c55e86aa95d0",
   "metadata": {},
   "outputs": [],
   "source": [
    "# Model\n",
    "# Ensure your VertexAI credentials are configured\n",
    "\n",
    "from langchain.chat_models import init_chat_model\n",
    "\n",
    "model = init_chat_model(\"gemini-2.0-flash-001\", model_provider=\"google_vertexai\")"
   ]
  },
  {
   "cell_type": "code",
   "execution_count": 11,
   "id": "2a5ffd08-4320-4357-9b94-ae0a9ac8f0b8",
   "metadata": {},
   "outputs": [
    {
     "data": {
      "text/plain": [
       "'Hi there! How can I help you today?\\n'"
      ]
     },
     "execution_count": 11,
     "metadata": {},
     "output_type": "execute_result"
    }
   ],
   "source": [
    "from langchain_core.messages import HumanMessage\n",
    "\n",
    "response = model.invoke([HumanMessage(content=\"hi!\")])\n",
    "response.content"
   ]
  },
  {
   "cell_type": "code",
   "execution_count": 12,
   "id": "7342d052-c922-4e1f-b032-945f477ff1ff",
   "metadata": {},
   "outputs": [],
   "source": [
    "#tool binding\n",
    "model_with_tools = model.bind_tools(tools)"
   ]
  },
  {
   "cell_type": "code",
   "execution_count": 13,
   "id": "65383c4d-3c96-4158-b16e-966046a7b984",
   "metadata": {},
   "outputs": [
    {
     "name": "stdout",
     "output_type": "stream",
     "text": [
      "ContentString: Hi there! How can I help you today?\n",
      "\n",
      "ToolCalls: []\n"
     ]
    }
   ],
   "source": [
    "response = model_with_tools.invoke([HumanMessage(content=\"Hi!\")])\n",
    "\n",
    "print(f\"ContentString: {response.content}\")\n",
    "print(f\"ToolCalls: {response.tool_calls}\")"
   ]
  },
  {
   "cell_type": "code",
   "execution_count": 14,
   "id": "393505f5-2934-4354-8424-4ea5b58ec2ed",
   "metadata": {},
   "outputs": [
    {
     "name": "stdout",
     "output_type": "stream",
     "text": [
      "ContentString: \n",
      "ToolCalls: [{'name': 'tavily_search_results_json', 'args': {'query': 'weather in San Francisco'}, 'id': 'fbbe4fe9-be37-4f5a-99a4-e518f0dfe28e', 'type': 'tool_call'}]\n"
     ]
    }
   ],
   "source": [
    "response = model_with_tools.invoke([HumanMessage(content=\"What's the weather in SF?\")])\n",
    "\n",
    "print(f\"ContentString: {response.content}\")\n",
    "print(f\"ToolCalls: {response.tool_calls}\")"
   ]
  },
  {
   "cell_type": "code",
   "execution_count": 1,
   "id": "405daba8-8b7f-4c25-be98-4a021eaf1377",
   "metadata": {},
   "outputs": [
    {
     "ename": "NameError",
     "evalue": "name 'model' is not defined",
     "output_type": "error",
     "traceback": [
      "\u001b[1;31m---------------------------------------------------------------------------\u001b[0m",
      "\u001b[1;31mNameError\u001b[0m                                 Traceback (most recent call last)",
      "Cell \u001b[1;32mIn[1], line 4\u001b[0m\n\u001b[0;32m      1\u001b[0m \u001b[38;5;66;03m# Create Agent\u001b[39;00m\n\u001b[0;32m      2\u001b[0m \u001b[38;5;28;01mfrom\u001b[39;00m\u001b[38;5;250m \u001b[39m\u001b[38;5;21;01mlangchain\u001b[39;00m\u001b[38;5;21;01m.\u001b[39;00m\u001b[38;5;21;01magents\u001b[39;00m\u001b[38;5;250m \u001b[39m\u001b[38;5;28;01mimport\u001b[39;00m create_react_agent\n\u001b[1;32m----> 4\u001b[0m agent_executor \u001b[38;5;241m=\u001b[39m create_react_agent(\u001b[43mmodel\u001b[49m, tools)\n",
      "\u001b[1;31mNameError\u001b[0m: name 'model' is not defined"
     ]
    }
   ],
   "source": [
    "# Create Agent\n",
    "from langchain.agents import create_react_agent\n",
    "\n",
    "agent_executor = create_react_agent(model, tools)"
   ]
  },
  {
   "cell_type": "code",
   "execution_count": null,
   "id": "c4d1a1de-0964-4fca-a8d8-5dd641c122ed",
   "metadata": {},
   "outputs": [],
   "source": []
  },
  {
   "cell_type": "code",
   "execution_count": 3,
   "id": "9047c211-2ddb-481e-8013-8d4d00882d4e",
   "metadata": {},
   "outputs": [],
   "source": [
    "from typing import Dict, TypedDict\n",
    "from langgraph.graph import StateGraph"
   ]
  },
  {
   "cell_type": "code",
   "execution_count": 10,
   "id": "963e8911-0472-4f74-bc8b-6f0c50b77d44",
   "metadata": {},
   "outputs": [],
   "source": [
    "class AgentState(TypedDict):\n",
    "    message: str\n",
    "\n",
    "def greeting_node(state: AgentState) -> AgentState:\n",
    "    \"\"\"Simple node that adds a greeting message to state\"\"\"\n",
    "    \n",
    "    state['message'] = \"Hey \" + state[\"message\"] + \", you are doing great learning langgraph\"\n",
    "    return state"
   ]
  },
  {
   "cell_type": "code",
   "execution_count": 11,
   "id": "ffb7d6e6-a0e9-43f8-88ec-dbcaa9e4adbf",
   "metadata": {},
   "outputs": [],
   "source": [
    "# Build Graph\n",
    "graph = StateGraph(AgentState)\n",
    "\n",
    "graph.add_node(\"greeter\", greeting_node)\n",
    "\n",
    "graph.set_entry_point(\"greeter\")\n",
    "graph.set_finish_point(\"greeter\")\n",
    "\n",
    "app = graph.compile()"
   ]
  },
  {
   "cell_type": "code",
   "execution_count": 12,
   "id": "f2f8f43c-2191-49fc-9421-4c162d7b8784",
   "metadata": {},
   "outputs": [
    {
     "data": {
      "image/png": "[encoded data removed]",
      "text/plain": [
       "<IPython.core.display.Image object>"
      ]
     },
     "metadata": {},
     "output_type": "display_data"
    }
   ],
   "source": [
    "# a way to display graph\n",
    "\n",
    "from IPython.display import Image, display\n",
    "display(Image(app.get_graph().draw_mermaid_png()))"
   ]
  },
  {
   "cell_type": "code",
   "execution_count": 13,
   "id": "53f33103-ee0d-4b40-9a14-dee424646f61",
   "metadata": {},
   "outputs": [],
   "source": [
    "result = app.invoke({\"message\": \"Bob\"})"
   ]
  },
  {
   "cell_type": "code",
   "execution_count": 14,
   "id": "d43cc832-7aaa-49a6-a40e-f24a30fd3f76",
   "metadata": {},
   "outputs": [
    {
     "data": {
      "text/plain": [
       "'Hey Bob, you are doing great learning langgraph'"
      ]
     },
     "execution_count": 14,
     "metadata": {},
     "output_type": "execute_result"
    }
   ],
   "source": [
    "result[\"message\"]"
   ]
  },
  {
   "cell_type": "code",
   "execution_count": null,
   "id": "fa178c42-bcae-4839-a65c-341872300cf7",
   "metadata": {},
   "outputs": [],
   "source": []
  },
  {
   "cell_type": "code",
   "execution_count": 15,
   "id": "abb78192-c831-490c-8a1a-1d0322bf6786",
   "metadata": {},
   "outputs": [],
   "source": [
    "# Multiple Inpits Graph\n",
    "from typing import TypedDict, List\n",
    "from langgraph.graph import StateGraph"
   ]
  },
  {
   "cell_type": "code",
   "execution_count": null,
   "id": "70591155-8a3a-4077-abee-0f89a02cb7fc",
   "metadata": {},
   "outputs": [],
   "source": []
  },
  {
   "cell_type": "code",
   "execution_count": 17,
   "id": "4bd44d8b-8a35-41f2-8dc1-5bdbdec97d4a",
   "metadata": {},
   "outputs": [],
   "source": [
    "class AgentState(TypedDict):\n",
    "    values: List[int]\n",
    "    name: str\n",
    "    result: str"
   ]
  },
  {
   "cell_type": "code",
   "execution_count": 18,
   "id": "cf9bb379-33d8-4a7e-80b5-173736127f28",
   "metadata": {},
   "outputs": [],
   "source": [
    "def process_values(state: AgentState) -> AgentState:\n",
    "    \"\"\"This function handles multiple inputs\"\"\"\n",
    "\n",
    "    state[\"result\"] = f\"Hi there {state[\"name\"]}! Your sum = {sum(state[\"values\"])}\"\n",
    "    return state"
   ]
  },
  {
   "cell_type": "code",
   "execution_count": 21,
   "id": "6e070e90-27ab-40f0-b809-cb02bd5d4024",
   "metadata": {},
   "outputs": [],
   "source": [
    "graph = StateGraph(AgentState)\n",
    "\n",
    "graph.add_node(\"process_value\", process_values)\n",
    "\n",
    "graph.set_entry_point(\"process_value\")\n",
    "graph.set_finish_point('process_value')\n",
    "\n",
    "app = graph.compile()"
   ]
  },
  {
   "cell_type": "code",
   "execution_count": 22,
   "id": "fc53d0a0-a537-4015-a28b-570ea56dd975",
   "metadata": {},
   "outputs": [
    {
     "data": {
      "image/png": "[encoded data removed]",
      "text/plain": [
       "<IPython.core.display.Image object>"
      ]
     },
     "metadata": {},
     "output_type": "display_data"
    }
   ],
   "source": [
    "from IPython.display import Image, display\n",
    "display(Image(app.get_graph().draw_mermaid_png()))"
   ]
  },
  {
   "cell_type": "code",
   "execution_count": 23,
   "id": "b4f06b1d-bc0f-4190-ac93-7c3aa308cbcf",
   "metadata": {},
   "outputs": [],
   "source": [
    "answers = app.invoke({\"values\": [1,2,3,4], \"name\":\"Jeff\"})"
   ]
  },
  {
   "cell_type": "code",
   "execution_count": 24,
   "id": "c18351d1-a166-4560-a21d-d85234f7ec1c",
   "metadata": {},
   "outputs": [
    {
     "name": "stdout",
     "output_type": "stream",
     "text": [
      "{'values': [1, 2, 3, 4], 'name': 'Jeff', 'result': 'Hi there Jeff! Your sum = 10'}\n"
     ]
    }
   ],
   "source": [
    "print(answers)"
   ]
  },
  {
   "cell_type": "code",
   "execution_count": 43,
   "id": "d41e4a7f-7e45-4c49-8121-7f5f458fdf7e",
   "metadata": {},
   "outputs": [],
   "source": [
    "# Graph Exercise\n",
    "from typing import TypedDict, List\n",
    "from langgraph.graph import StateGraph\n",
    "import math"
   ]
  },
  {
   "cell_type": "code",
   "execution_count": 35,
   "id": "15a25a2c-8521-4cc4-b581-f24739108339",
   "metadata": {},
   "outputs": [],
   "source": [
    "class AgentState(TypedDict):\n",
    "    name: str\n",
    "    values: List[int]\n",
    "    operator: str\n",
    "    result: str"
   ]
  },
  {
   "cell_type": "code",
   "execution_count": 36,
   "id": "ec7b688c-bad2-4d3d-b095-e79ac228f569",
   "metadata": {},
   "outputs": [],
   "source": [
    "def value_processor(state: AgentState) -> AgentState:\n",
    "    \"\"\"This functions accepts multiple input and performs operations based on the type of operator\"\"\"\n",
    "\n",
    "    if state[\"operator\"] == '+':\n",
    "        state['result'] = f\"Hi there, {state['name']}! you result is {sum(state['values'])}\"\n",
    "    elif state[\"operator\"] == '*':\n",
    "        state['result'] = f\"Hi there, {state['name']}! you result is {math.prod(state['values'])}\"\n",
    "    return state\n",
    "    "
   ]
  },
  {
   "cell_type": "code",
   "execution_count": 38,
   "id": "8b39de63-f658-4e8e-bd3d-bba2465b3c51",
   "metadata": {},
   "outputs": [],
   "source": [
    "graph = StateGraph(AgentState)\n",
    "\n",
    "graph.add_node('processor', value_processor)\n",
    "\n",
    "graph.set_entry_point('processor')\n",
    "graph.set_finish_point('processor')\n",
    "\n",
    "app = graph.compile()"
   ]
  },
  {
   "cell_type": "code",
   "execution_count": 39,
   "id": "6ea05d55-c3b6-47d9-a04a-9934e0bc32c9",
   "metadata": {},
   "outputs": [
    {
     "data": {
      "image/png": "[encoded data removed]",
      "text/plain": [
       "<IPython.core.display.Image object>"
      ]
     },
     "metadata": {},
     "output_type": "display_data"
    }
   ],
   "source": [
    "from IPython.display import Image, display\n",
    "display(Image(app.get_graph().draw_mermaid_png()))"
   ]
  },
  {
   "cell_type": "code",
   "execution_count": 46,
   "id": "50c322d4-59a6-4039-bc11-80fc2133ccc5",
   "metadata": {},
   "outputs": [],
   "source": [
    "answers = app.invoke({\"name\":\"Jeff\", \"values\": [1, 2, 3, 4, 5], \"operator\":\"+\"})"
   ]
  },
  {
   "cell_type": "code",
   "execution_count": 47,
   "id": "4f828bbf-1cd7-48b7-9ef5-5aea0af80dc6",
   "metadata": {},
   "outputs": [
    {
     "name": "stdout",
     "output_type": "stream",
     "text": [
      "{'name': 'Jeff', 'values': [1, 2, 3, 4, 5], 'operator': '+', 'result': 'Hi there, Jeff! you result is 15'}\n"
     ]
    }
   ],
   "source": [
    "print(answers)"
   ]
  },
  {
   "cell_type": "code",
   "execution_count": null,
   "id": "05387e7d-c7ee-4b68-ad24-bad5a98edf32",
   "metadata": {},
   "outputs": [],
   "source": []
  },
  {
   "cell_type": "code",
   "execution_count": null,
   "id": "43615dae-eb2d-4eb1-8084-3abd32badc19",
   "metadata": {},
   "outputs": [],
   "source": []
  },
  {
   "cell_type": "code",
   "execution_count": 48,
   "id": "f5708aec-4345-43a2-a0bb-dacaae03b59b",
   "metadata": {},
   "outputs": [],
   "source": [
    "from typing import TypedDict, List\n",
    "from langgraph.graph import StateGraph"
   ]
  },
  {
   "cell_type": "code",
   "execution_count": 63,
   "id": "707fc702-1fcc-4082-866a-891d4dc21c65",
   "metadata": {},
   "outputs": [],
   "source": [
    "class AgentState(TypedDict):\n",
    "    name: str\n",
    "    age: str\n",
    "    skills: List[str]\n",
    "    final: str"
   ]
  },
  {
   "cell_type": "code",
   "execution_count": 98,
   "id": "a05b1417-2423-4430-b6a2-4a0641868459",
   "metadata": {},
   "outputs": [],
   "source": [
    "def first_node(state: AgentState) -> AgentState:\n",
    "    \"\"\"This is the first node in the sequence\"\"\"\n",
    "\n",
    "    state['final'] = f\"Hi {state['name']}, welcome!\"\n",
    "    return state\n",
    "\n",
    "def second_node(state: AgentState) -> AgentState:\n",
    "    \"\"\"This is the first node in the sequence\"\"\"\n",
    "\n",
    "    state['final'] =f\"{state['final']}, You are {state['age']} years old!\"\n",
    "    return state\n",
    "\n",
    "def third_node(state: AgentState) -> AgentState:\n",
    "    \"\"\"This is the first node in the sequence\"\"\"\n",
    "\n",
    "    state['final'] = f\"{state['final']} You have sills in  {state['skills'][0]}, {state['skills'][1]} and {state['skills'][2]}\"\n",
    "    return state"
   ]
  },
  {
   "cell_type": "code",
   "execution_count": 99,
   "id": "e994ae21-c16e-49fe-b6f1-7823191d6499",
   "metadata": {},
   "outputs": [],
   "source": [
    "graph = StateGraph(AgentState)\n",
    "\n",
    "graph.add_node('first', first_node)\n",
    "graph.add_node('second', second_node)\n",
    "graph.add_node('third', third_node)\n",
    "graph.set_entry_point('first')\n",
    "graph.add_edge('first', 'second')\n",
    "graph.add_edge('second', 'third')\n",
    "graph.set_finish_point('second')\n",
    "\n",
    "app = graph.compile()"
   ]
  },
  {
   "cell_type": "code",
   "execution_count": 100,
   "id": "d5799f8e-66ed-4de5-977e-f29003b5e183",
   "metadata": {},
   "outputs": [
    {
     "data": {
      "image/png": "[encoded data removed]",
      "text/plain": [
       "<IPython.core.display.Image object>"
      ]
     },
     "metadata": {},
     "output_type": "display_data"
    }
   ],
   "source": [
    "from IPython.display import Image, display\n",
    "display(Image(app.get_graph().draw_mermaid_png()))"
   ]
  },
  {
   "cell_type": "code",
   "execution_count": 101,
   "id": "1a1cd5cb-c3e6-4e43-b00d-dcf6fbd0c741",
   "metadata": {},
   "outputs": [],
   "source": [
    "answers = app.invoke({'name': 'Jeff', 'age':'23', 'skills':['Python', 'Machine Learning', 'Langgraph']})"
   ]
  },
  {
   "cell_type": "code",
   "execution_count": 102,
   "id": "148901cd-8e92-49b6-8d14-de9af4ddc7e6",
   "metadata": {},
   "outputs": [
    {
     "name": "stdout",
     "output_type": "stream",
     "text": [
      "{'name': 'Jeff', 'age': '23', 'skills': ['Python', 'Machine Learning', 'Langgraph'], 'final': 'Hi Jeff, welcome!, You are 23 years old! You have sills in  Python, Machine Learning and Langgraph'}\n"
     ]
    }
   ],
   "source": [
    "print(answers)"
   ]
  },
  {
   "cell_type": "code",
   "execution_count": null,
   "id": "7c76bcb7-5a55-40de-a480-001c0ce23237",
   "metadata": {},
   "outputs": [],
   "source": []
  },
  {
   "cell_type": "markdown",
   "id": "1ea390c6-cb42-4d95-b7fd-f11a2eb8bc75",
   "metadata": {},
   "source": [
    "### New Excecise\n",
    "Add or Subtract"
   ]
  },
  {
   "cell_type": "code",
   "execution_count": 119,
   "id": "aead3191-270c-4c6c-848c-3449d5e56fd9",
   "metadata": {},
   "outputs": [],
   "source": [
    "from typing import TypedDict, List\n",
    "from langgraph.graph import StateGraph, START, END"
   ]
  },
  {
   "cell_type": "code",
   "execution_count": 174,
   "id": "3cb4bb6d-6f64-4eae-8df4-027b479e1621",
   "metadata": {},
   "outputs": [],
   "source": [
    "class AgentState(TypedDict):\n",
    "    number1: int\n",
    "    number2: int\n",
    "    number3: int\n",
    "    operation1: str\n",
    "    finalnumber1: int\n"
   ]
  },
  {
   "cell_type": "code",
   "execution_count": 175,
   "id": "4d0e18fe-5faa-4fbb-9435-979894fdf700",
   "metadata": {},
   "outputs": [],
   "source": [
    "def adder(state: AgentState) -> AgentState:\n",
    "    \"\"\"this node does addition\"\"\"\n",
    "    state['finalnumber1'] = state['number1'] + state['number2']\n",
    "    return state\n",
    "    \n",
    "\n",
    "def subtractor(state: AgentState) -> AgentState:\n",
    "    \"\"\"this node does subtraction\"\"\"\n",
    "    state['finalnumber1'] = state['number1'] - state['number2']\n",
    "    return state\n",
    "\n",
    "def decide_next_node(state:AgentState) -> AgentState:\n",
    "    \"\"\"this node select the next step in of the graph\"\"\"\n",
    "\n",
    "    if state['operation1'] == '+':\n",
    "        return \"addition_operation\"\n",
    "        \n",
    "    elif state['operation1'] == '-':\n",
    "        return \"subtraction_operation\"\n",
    "\n",
    "    "
   ]
  },
  {
   "cell_type": "code",
   "execution_count": 176,
   "id": "7850742d-d77e-4d35-86ed-1416565d3d18",
   "metadata": {},
   "outputs": [],
   "source": [
    "graph = StateGraph(AgentState)\n",
    "\n",
    "graph.add_node(\"add_node\", adder)\n",
    "graph.add_node(\"subtract_node\", subtractor)\n",
    "graph.add_node(\"router\", lambda state:state) # pass through\n",
    "\n",
    "graph.add_edge(START, \"router\")\n",
    "\n",
    "graph.add_conditional_edges(\n",
    "    \"router\",\n",
    "    decide_next_node,\n",
    "    {\n",
    "        \"addition_operation\": \"add_node\",\n",
    "        \"subtraction_operation\": \"subtract_node\"\n",
    "    }\n",
    ")\n",
    "\n",
    "graph.add_edge(\"add_node\",END)\n",
    "graph.add_edge(\"subtract_node\", END)\n",
    "\n",
    "app = graph.compile()"
   ]
  },
  {
   "cell_type": "code",
   "execution_count": 177,
   "id": "0102f87e-0e75-454f-bc14-6a095dd487c3",
   "metadata": {},
   "outputs": [
    {
     "data": {
      "image/png": "[encoded data removed]",
      "text/plain": [
       "<IPython.core.display.Image object>"
      ]
     },
     "metadata": {},
     "output_type": "display_data"
    }
   ],
   "source": [
    "from IPython.display import Image, display\n",
    "display(Image(app.get_graph().draw_mermaid_png()))"
   ]
  },
  {
   "cell_type": "code",
   "execution_count": 179,
   "id": "c5947584-ad06-4498-b824-ad812cb56d8b",
   "metadata": {},
   "outputs": [
    {
     "name": "stdout",
     "output_type": "stream",
     "text": [
      "{'number1': 10, 'number2': 5, 'operation1': '+', 'finalnumber1': 15}\n"
     ]
    }
   ],
   "source": [
    "initial_state_1 = AgentState(number1 = 10, number2 = 5, operation1 = '+' )\n",
    "print(app.invoke(initial_state_1))"
   ]
  },
  {
   "cell_type": "code",
   "execution_count": null,
   "id": "15a5a5a1-c49d-430c-a78c-e6c75877428c",
   "metadata": {},
   "outputs": [],
   "source": []
  },
  {
   "cell_type": "markdown",
   "id": "23073bc0-4d23-4654-aecc-1ad05875d432",
   "metadata": {},
   "source": [
    "# Excercise"
   ]
  },
  {
   "cell_type": "code",
   "execution_count": 173,
   "id": "7e45e1e4-3961-4e19-9699-2e31ebdff2a0",
   "metadata": {},
   "outputs": [],
   "source": [
    "from typing import TypedDict, List\n",
    "from langgraph.graph import StateGraph, START, END"
   ]
  },
  {
   "cell_type": "code",
   "execution_count": 190,
   "id": "4b23d5f1-0d20-4fd7-baa7-422f76f1d449",
   "metadata": {},
   "outputs": [],
   "source": [
    "class AgentState(TypedDict):\n",
    "    number1: int\n",
    "    number2: int\n",
    "    number3: int\n",
    "    number4: int\n",
    "    operation1: str\n",
    "    operation2: str\n",
    "    finalnumber1: int\n",
    "    finalnumber2: int\n"
   ]
  },
  {
   "cell_type": "code",
   "execution_count": 200,
   "id": "85558c7f-e937-4239-bdae-0fdddd2a4839",
   "metadata": {},
   "outputs": [],
   "source": [
    "def adder(state: AgentState) -> AgentState:\n",
    "    \"\"\"this node does addition\"\"\"\n",
    "    state['finalnumber1'] = state['number1'] + state['number2']\n",
    "    return state\n",
    "\n",
    "def adder2(state: AgentState) -> AgentState:\n",
    "    \"\"\"this node does addition\"\"\"\n",
    "    state['finalnumber2'] = state['number3'] + state['number4']\n",
    "    return state\n",
    "    \n",
    "\n",
    "def subtractor(state: AgentState) -> AgentState:\n",
    "    \"\"\"this node does subtraction\"\"\"\n",
    "    state['finalnumber1'] = state['number1'] - state['number2']\n",
    "    return state\n",
    "\n",
    "def subtractor2(state: AgentState) -> AgentState:\n",
    "    \"\"\"this node does subtraction\"\"\"\n",
    "    state['finalnumber2'] = state['number3'] - state['number4']\n",
    "    return state\n",
    "\n",
    "def decide_next_node(state:AgentState) -> AgentState:\n",
    "    \"\"\"this node select the next step in of the graph\"\"\"\n",
    "\n",
    "    if state['operation1'] == '+':\n",
    "        return \"addition_operation\"\n",
    "        \n",
    "    elif state['operation1'] == '-':\n",
    "        return \"subtraction_operation\"\n",
    "\n",
    "def decide_next_node2(state:AgentState) -> AgentState:\n",
    "    \"\"\"this node select the next step in of the graph\"\"\"\n",
    "\n",
    "    if state['operation2'] == '+':\n",
    "        return \"addition_operation\"\n",
    "        \n",
    "    elif state['operation2'] == '-':\n",
    "        return \"subtraction_operation\"\n"
   ]
  },
  {
   "cell_type": "code",
   "execution_count": 201,
   "id": "514fce03-adc9-4680-adba-ea1d7a6c2229",
   "metadata": {},
   "outputs": [],
   "source": [
    "graph = StateGraph(AgentState)\n",
    "\n",
    "graph.add_node(\"add_node\", adder)\n",
    "graph.add_node(\"subtract_node\", subtractor)\n",
    "graph.add_node(\"add_node2\", adder2)\n",
    "graph.add_node(\"subtract_node2\", subtractor2)\n",
    "graph.add_node(\"router\", lambda state:state) # pass through\n",
    "graph.add_node(\"router2\", lambda state:state)\n",
    "\n",
    "\n",
    "graph.add_edge(START, \"router\")\n",
    "\n",
    "graph.add_conditional_edges(\n",
    "    \"router\",\n",
    "    decide_next_node,\n",
    "    {\n",
    "        \"addition_operation\": \"add_node\",\n",
    "        \"subtraction_operation\": \"subtract_node\"\n",
    "    }\n",
    ")\n",
    "\n",
    "graph.add_edge(\"add_node\",\"router2\")\n",
    "graph.add_edge(\"subtract_node\", \"router2\")\n",
    "\n",
    "graph.add_conditional_edges(\n",
    "    \"router2\",\n",
    "    decide_next_node2,\n",
    "    {\n",
    "        \"addition_operation\": \"add_node2\",\n",
    "        \"subtraction_operation\": \"subtract_node2\"\n",
    "    }\n",
    ")\n",
    "\n",
    "graph.add_edge(\"add_node2\", END)\n",
    "graph.add_edge(\"subtract_node2\", END)\n",
    "\n",
    "app = graph.compile()"
   ]
  },
  {
   "cell_type": "code",
   "execution_count": 202,
   "id": "0374ccbd-e9d5-4d72-8be7-999d062cb1cb",
   "metadata": {},
   "outputs": [
    {
     "data": {
      "image/png": "[encoded data removed]",
      "text/plain": [
       "<IPython.core.display.Image object>"
      ]
     },
     "metadata": {},
     "output_type": "display_data"
    }
   ],
   "source": [
    "from IPython.display import Image, display\n",
    "display(Image(app.get_graph().draw_mermaid_png()))"
   ]
  },
  {
   "cell_type": "code",
   "execution_count": 203,
   "id": "30bf9ff7-1aed-41c4-a135-980a2b906937",
   "metadata": {},
   "outputs": [],
   "source": [
    "initial_state_2 = AgentState(number1 = 10, number2 = 5, number3 = 40, number4 = 9, operation1 = '+' , operation2 = '-')"
   ]
  },
  {
   "cell_type": "code",
   "execution_count": 204,
   "id": "db63a2be-de7a-4c68-bbeb-e54ab1f0ffc9",
   "metadata": {},
   "outputs": [
    {
     "name": "stdout",
     "output_type": "stream",
     "text": [
      "{'number1': 10, 'number2': 5, 'number3': 40, 'number4': 9, 'operation1': '+', 'operation2': '-', 'finalnumber1': 15, 'finalnumber2': 31}\n"
     ]
    }
   ],
   "source": [
    "print(app.invoke(initial_state_2))"
   ]
  },
  {
   "cell_type": "code",
   "execution_count": null,
   "id": "065bf4a3-edf8-4faf-863c-6d19c6906532",
   "metadata": {},
   "outputs": [],
   "source": []
  },
  {
   "cell_type": "markdown",
   "id": "f9b8c4e8-a23e-4cde-93b2-880ddff7f2dc",
   "metadata": {},
   "source": [
    "# Agent 5"
   ]
  },
  {
   "cell_type": "code",
   "execution_count": 13,
   "id": "0cd9538a-4b11-418b-898f-c8e0443cc201",
   "metadata": {},
   "outputs": [],
   "source": [
    "from typing import TypedDict, List\n",
    "from langchain_core.messages import HumanMessage\n",
    "from langchain_google_vertexai import ChatVertexAI\n",
    "from langgraph.graph import StateGraph, START, END\n",
    "from dotenv import load_dotenv # used to store secret stuff like API Keys or configuration values"
   ]
  },
  {
   "cell_type": "code",
   "execution_count": 14,
   "id": "88ec6304-b134-4183-a8e3-2b8d40238883",
   "metadata": {},
   "outputs": [
    {
     "data": {
      "text/plain": [
       "True"
      ]
     },
     "execution_count": 14,
     "metadata": {},
     "output_type": "execute_result"
    }
   ],
   "source": [
    "load_dotenv()"
   ]
  },
  {
   "cell_type": "code",
   "execution_count": 18,
   "id": "dc5f394b-da6a-438c-8d05-379d9968b522",
   "metadata": {},
   "outputs": [],
   "source": [
    "class AgentState(TypedDict): \n",
    "    messages: List[HumanMessage]\n",
    "\n",
    "llm = ChatVertexAI(\n",
    "    model=\"gemini-2.5-flash-preview-04-17\",\n",
    "    temperature=0,\n",
    "    max_tokens=None,\n",
    "    max_retries=6,\n",
    "    stop=None,\n",
    "   \n",
    ")"
   ]
  },
  {
   "cell_type": "code",
   "execution_count": 19,
   "id": "a90e1ed7-3796-44f8-861f-7c4bdf80ff0f",
   "metadata": {},
   "outputs": [],
   "source": [
    "def process(state: AgentState) -> AgentState:\n",
    "    response = llm.invoke(state[\"messages\"])\n",
    "    print(f\"\\nAI: {response.content}\")\n",
    "    return state"
   ]
  },
  {
   "cell_type": "code",
   "execution_count": 20,
   "id": "6ffedea6-6a87-4cac-a32a-0d26d0043c59",
   "metadata": {},
   "outputs": [],
   "source": [
    "graph = StateGraph(AgentState)\n",
    "graph.add_node(\"process\", process)\n",
    "graph.add_edge(START, \"process\")\n",
    "graph.add_edge(\"process\", END)\n",
    "agent = graph.compile()"
   ]
  },
  {
   "cell_type": "code",
   "execution_count": null,
   "id": "f909b512-824d-40a1-bd07-aaffa0503841",
   "metadata": {},
   "outputs": [],
   "source": [
    "user_input = input()"
   ]
  },
  {
   "cell_type": "code",
   "execution_count": null,
   "id": "6b739e6f-cd8c-460d-b392-ab5ff3ff9bc5",
   "metadata": {},
   "outputs": [],
   "source": []
  },
  {
   "cell_type": "code",
   "execution_count": null,
   "id": "521cb051-4c30-4105-8d55-ff77399b24d6",
   "metadata": {},
   "outputs": [],
   "source": []
  }
 ],
 "metadata": {
  "kernelspec": {
   "display_name": "Python 3 (ipykernel)",
   "language": "python",
   "name": "python3"
  },
  "language_info": {
   "codemirror_mode": {
    "name": "ipython",
    "version": 3
   },
   "file_extension": ".py",
   "mimetype": "text/x-python",
   "name": "python",
   "nbconvert_exporter": "python",
   "pygments_lexer": "ipython3",
   "version": "3.13.3"
  }
 },
 "nbformat": 4,
 "nbformat_minor": 5
}
